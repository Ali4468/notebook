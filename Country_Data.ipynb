{
  "nbformat": 4,
  "nbformat_minor": 0,
  "metadata": {
    "colab": {
      "provenance": [],
      "authorship_tag": "ABX9TyPsl2dQjrvczBM/RtGPJcHj",
      "include_colab_link": true
    },
    "kernelspec": {
      "name": "python3",
      "display_name": "Python 3"
    },
    "language_info": {
      "name": "python"
    }
  },
  "cells": [
    {
      "cell_type": "markdown",
      "metadata": {
        "id": "view-in-github",
        "colab_type": "text"
      },
      "source": [
        "<a href=\"https://colab.research.google.com/github/Ali4468/notebook/blob/main/Country_Data.ipynb\" target=\"_parent\"><img src=\"https://colab.research.google.com/assets/colab-badge.svg\" alt=\"Open In Colab\"/></a>"
      ]
    },
    {
      "cell_type": "code",
      "execution_count": 19,
      "metadata": {
        "colab": {
          "base_uri": "https://localhost:8080/",
          "height": 671
        },
        "id": "zfLc6hV1K1xR",
        "outputId": "25a7a190-5417-48f1-e6ad-2c5ea34301b4"
      },
      "outputs": [
        {
          "output_type": "display_data",
          "data": {
            "text/plain": [
              "<IPython.core.display.Javascript object>"
            ],
            "application/javascript": [
              "(async (port, path, width, height, cache, element) => {\n",
              "    if (!google.colab.kernel.accessAllowed && !cache) {\n",
              "      return;\n",
              "    }\n",
              "    element.appendChild(document.createTextNode(''));\n",
              "    const url = await google.colab.kernel.proxyPort(port, {cache});\n",
              "    const iframe = document.createElement('iframe');\n",
              "    iframe.src = new URL(path, url).toString();\n",
              "    iframe.height = height;\n",
              "    iframe.width = width;\n",
              "    iframe.style.border = 0;\n",
              "    iframe.allow = [\n",
              "        'accelerometer',\n",
              "        'autoplay',\n",
              "        'camera',\n",
              "        'clipboard-read',\n",
              "        'clipboard-write',\n",
              "        'gyroscope',\n",
              "        'magnetometer',\n",
              "        'microphone',\n",
              "        'serial',\n",
              "        'usb',\n",
              "        'xr-spatial-tracking',\n",
              "    ].join('; ');\n",
              "    element.appendChild(iframe);\n",
              "  })(8050, \"/\", \"100%\", 650, false, window.element)"
            ]
          },
          "metadata": {}
        }
      ],
      "source": [
        "import pandas as pd\n",
        "import plotly.express as px\n",
        "import dash\n",
        "from dash import dcc, html\n",
        "from dash.dependencies import Input, Output\n",
        "\n",
        "# Load the data\n",
        "file_path = '/content/factbook.csv'  # Adjust this path as needed\n",
        "data = pd.read_csv(file_path)\n",
        "\n",
        "# Define the data fields dynamically from the CSV columns\n",
        "# Exclude columns that are not relevant for plotting (like 'Country', 'Year', etc.)\n",
        "data_fields = [col for col in data.columns if col not in ['Country', 'Year']]  # Update excluded columns as needed\n",
        "\n",
        "# Check if data_fields is not empty\n",
        "if not data_fields:\n",
        "    raise ValueError(\"No data fields found. Check the CSV file and excluded columns.\")\n",
        "\n",
        "# Define the app layout\n",
        "app = dash.Dash(__name__)\n",
        "app.layout = html.Div([\n",
        "    html.H1('Country Data Dashboard'),\n",
        "    dcc.Dropdown(\n",
        "        id='data-field-selector',\n",
        "        options=[{'label': field, 'value': field} for field in data_fields],\n",
        "        value=data_fields[0],  # Default value\n",
        "        clearable=False\n",
        "    ),\n",
        "    dcc.Dropdown(\n",
        "        id='chart-type-selector',\n",
        "        options=[\n",
        "            {'label': 'Bar Chart', 'value': 'bar'},\n",
        "            {'label': 'Scatter Plot', 'value': 'scatter'},\n",
        "            {'label': 'Pie Chart', 'value': 'pie'},\n",
        "            {'label': 'Line Chart', 'value': 'line'},\n",
        "            # Add other chart types if needed\n",
        "        ],\n",
        "        value='bar',  # Default chart type\n",
        "        clearable=False\n",
        "    ),\n",
        "    dcc.Dropdown(\n",
        "        id='country-selector',\n",
        "        options=[{'label': c, 'value': c} for c in data['Country'].unique()],\n",
        "        value=['United States', 'China', 'Japan', 'Germany'],  # Default countries\n",
        "        multi=True\n",
        "    ),\n",
        "    dcc.Graph(id='main-plot')\n",
        "])\n",
        "\n",
        "# Define the callbacks\n",
        "@app.callback(\n",
        "    Output('main-plot', 'figure'),\n",
        "    [Input('country-selector', 'value'),\n",
        "     Input('data-field-selector', 'value'),\n",
        "     Input('chart-type-selector', 'value')]\n",
        ")\n",
        "def update_main_plot(selected_countries, selected_data_field, selected_chart_type):\n",
        "    filtered_data = data[data['Country'].isin(selected_countries)]\n",
        "    if selected_chart_type == 'bar':\n",
        "        fig = px.bar(filtered_data, x='Country', y=selected_data_field, title=f'{selected_data_field} by Country')\n",
        "    elif selected_chart_type == 'scatter':\n",
        "        fig = px.scatter(filtered_data, x='Country', y=selected_data_field, title=f'{selected_data_field} by Country')\n",
        "    elif selected_chart_type == 'pie':\n",
        "        fig = px.pie(filtered_data, names='Country', values=selected_data_field, title=f'{selected_data_field} by Country')\n",
        "    elif selected_chart_type == 'line':\n",
        "        fig = px.line(filtered_data, x='Year', y=selected_data_field, color='Country', title=f'{selected_data_field} by Country')\n",
        "    # Add more chart types here as needed\n",
        "    return fig\n",
        "\n",
        "# Run the app\n",
        "if __name__ == '__main__':\n",
        "    app.run_server(debug=True)\n"
      ]
    },
    {
      "cell_type": "code",
      "source": [],
      "metadata": {
        "id": "caJt8jWv4eHH"
      },
      "execution_count": null,
      "outputs": []
    }
  ]
}